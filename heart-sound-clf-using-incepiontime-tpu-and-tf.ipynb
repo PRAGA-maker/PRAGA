{
 "cells": [
  {
   "attachments": {},
   "cell_type": "markdown",
   "id": "316f8ecc",
   "metadata": {
    "papermill": {
     "duration": 0.020863,
     "end_time": "2022-02-11T16:59:05.537175",
     "exception": false,
     "start_time": "2022-02-11T16:59:05.516312",
     "status": "completed"
    },
    "tags": []
   },
   "source": [
    "# <center>  Heart Sound Classification </center> \n",
    "## <center> Heart murmur detection from Phonocardiogram recordings: [The George B. Moody PhysioNet Challenge 2022](https://moody-challenge.physionet.org/2022/)\n",
    "In this notebook we train a baseline model to identify the  presence, absence, or unclear cases of murmurs in heart sound recordings collected from multiple auscultation locations on the body using a digital stethoscope.\n",
    "\n",
    "<div style=\"width:100%;text-align: center;\"> <img align=middle src=\"https://media.springernature.com/lw685/springer-static/image/art%3A10.1007%2Fs11277-020-07116-5/MediaObjects/11277_2020_7116_Fig1_HTML.png\" alt=\"Heart beating\" style=\"height:500px;margin-top:3rem;\"> </div>\n",
    "<center> Figure is taken from Had, A. et al 2020 </center> \n"
   ]
  },
  {
   "attachments": {},
   "cell_type": "markdown",
   "id": "2e861029",
   "metadata": {
    "papermill": {
     "duration": 0.020344,
     "end_time": "2022-02-11T16:59:05.582207",
     "exception": false,
     "start_time": "2022-02-11T16:59:05.561863",
     "status": "completed"
    },
    "tags": []
   },
   "source": [
    "From a technical perspective, we will also investigate how we can accelerate the training prosess using TPUs and the Tensorflow Dataset functionality"
   ]
  },
  {
   "attachments": {},
   "cell_type": "markdown",
   "id": "67e20858",
   "metadata": {
    "papermill": {
     "duration": 0.019139,
     "end_time": "2022-02-11T16:59:05.620972",
     "exception": false,
     "start_time": "2022-02-11T16:59:05.601833",
     "status": "completed"
    },
    "tags": []
   },
   "source": [
    "## 📥 Import the necessary Python packages"
   ]
  },
  {
   "cell_type": "code",
   "execution_count": 1,
   "id": "8cc6eb54",
   "metadata": {
    "execution": {
     "iopub.execute_input": "2022-02-11T16:59:05.665217Z",
     "iopub.status.busy": "2022-02-11T16:59:05.663998Z",
     "iopub.status.idle": "2022-02-11T16:59:12.558371Z",
     "shell.execute_reply": "2022-02-11T16:59:12.557693Z",
     "shell.execute_reply.started": "2022-02-08T19:31:10.239535Z"
    },
    "papermill": {
     "duration": 6.917863,
     "end_time": "2022-02-11T16:59:12.558546",
     "exception": false,
     "start_time": "2022-02-11T16:59:05.640683",
     "status": "completed"
    },
    "tags": []
   },
   "outputs": [
    {
     "name": "stderr",
     "output_type": "stream",
     "text": [
      "2022-02-11 16:59:06.264527: W tensorflow/stream_executor/platform/default/dso_loader.cc:60] Could not load dynamic library 'libcudart.so.11.0'; dlerror: libcudart.so.11.0: cannot open shared object file: No such file or directory; LD_LIBRARY_PATH: /opt/conda/lib\n",
      "2022-02-11 16:59:06.264632: I tensorflow/stream_executor/cuda/cudart_stub.cc:29] Ignore above cudart dlerror if you do not have a GPU set up on your machine.\n"
     ]
    }
   ],
   "source": [
    "import os\n",
    "import time\n",
    "import tqdm\n",
    "import numpy as np\n",
    "import matplotlib.pyplot as plt\n",
    "import tensorflow as tf\n",
    "import IPython.display as display\n",
    "import tensorflow_addons as tfa\n",
    "from scipy import signal\n",
    "from IPython.display import clear_output\n",
    "from sklearn.model_selection import StratifiedKFold\n",
    "from sklearn.utils.class_weight import compute_class_weight\n",
    "\n",
    "import jax.numpy as jnp"
   ]
  },
  {
   "cell_type": "code",
   "execution_count": 2,
   "id": "2b2a112a",
   "metadata": {
    "execution": {
     "iopub.execute_input": "2022-02-11T16:59:12.602796Z",
     "iopub.status.busy": "2022-02-11T16:59:12.602134Z",
     "iopub.status.idle": "2022-02-11T16:59:12.668666Z",
     "shell.execute_reply": "2022-02-11T16:59:12.667997Z",
     "shell.execute_reply.started": "2022-02-08T19:34:51.808614Z"
    },
    "papermill": {
     "duration": 0.089643,
     "end_time": "2022-02-11T16:59:12.668804",
     "exception": false,
     "start_time": "2022-02-11T16:59:12.579161",
     "status": "completed"
    },
    "tags": []
   },
   "outputs": [],
   "source": [
    "# We import a utility script were we have some helping functions\n",
    "import george_moody_challenge_2022_utility_script as gmc"
   ]
  },
  {
   "cell_type": "code",
   "execution_count": 3,
   "id": "1e17dcec",
   "metadata": {
    "execution": {
     "iopub.execute_input": "2022-02-11T16:59:12.711726Z",
     "iopub.status.busy": "2022-02-11T16:59:12.711095Z",
     "iopub.status.idle": "2022-02-11T16:59:12.715944Z",
     "shell.execute_reply": "2022-02-11T16:59:12.716636Z",
     "shell.execute_reply.started": "2022-02-08T19:31:19.507196Z"
    },
    "papermill": {
     "duration": 0.02806,
     "end_time": "2022-02-11T16:59:12.716858",
     "exception": false,
     "start_time": "2022-02-11T16:59:12.688798",
     "status": "completed"
    },
    "tags": []
   },
   "outputs": [
    {
     "name": "stdout",
     "output_type": "stream",
     "text": [
      "2.4.1\n"
     ]
    }
   ],
   "source": [
    "# AT this point we use TensorFlow version 2.4.1 because may cause trouble for us regarding the TPU\n",
    "print(tf.__version__)"
   ]
  },
  {
   "cell_type": "code",
   "execution_count": 4,
   "id": "3033b204",
   "metadata": {
    "execution": {
     "iopub.execute_input": "2022-02-11T16:59:12.762058Z",
     "iopub.status.busy": "2022-02-11T16:59:12.761459Z",
     "iopub.status.idle": "2022-02-11T16:59:12.764888Z",
     "shell.execute_reply": "2022-02-11T16:59:12.765480Z",
     "shell.execute_reply.started": "2022-02-08T19:31:19.515659Z"
    },
    "papermill": {
     "duration": 0.028042,
     "end_time": "2022-02-11T16:59:12.765641",
     "exception": false,
     "start_time": "2022-02-11T16:59:12.737599",
     "status": "completed"
    },
    "tags": []
   },
   "outputs": [],
   "source": [
    "# Path to the training data\n",
    "\n",
    "data_path=\"../input/the-circor-digiscope-phonocardiogram-dataset/the-circor-digiscope-phonocardiogram-dataset-1.0.1/training_data\""
   ]
  },
  {
   "attachments": {},
   "cell_type": "markdown",
   "id": "bfb12dc3",
   "metadata": {
    "papermill": {
     "duration": 0.01986,
     "end_time": "2022-02-11T16:59:12.805701",
     "exception": false,
     "start_time": "2022-02-11T16:59:12.785841",
     "status": "completed"
    },
    "tags": []
   },
   "source": [
    "## 🔩 Define our TPU strategy "
   ]
  },
  {
   "cell_type": "code",
   "execution_count": 5,
   "id": "8864774a",
   "metadata": {
    "execution": {
     "iopub.execute_input": "2022-02-11T16:59:12.849587Z",
     "iopub.status.busy": "2022-02-11T16:59:12.848829Z",
     "iopub.status.idle": "2022-02-11T16:59:19.100827Z",
     "shell.execute_reply": "2022-02-11T16:59:19.101485Z",
     "shell.execute_reply.started": "2022-02-04T07:33:29.304776Z"
    },
    "papermill": {
     "duration": 6.275676,
     "end_time": "2022-02-11T16:59:19.101675",
     "exception": false,
     "start_time": "2022-02-11T16:59:12.825999",
     "status": "completed"
    },
    "tags": []
   },
   "outputs": [
    {
     "name": "stderr",
     "output_type": "stream",
     "text": [
      "2022-02-11 16:59:12.854727: I tensorflow/compiler/jit/xla_cpu_device.cc:41] Not creating XLA devices, tf_xla_enable_xla_devices not set\n",
      "2022-02-11 16:59:12.858236: W tensorflow/stream_executor/platform/default/dso_loader.cc:60] Could not load dynamic library 'libcuda.so.1'; dlerror: libcuda.so.1: cannot open shared object file: No such file or directory; LD_LIBRARY_PATH: /opt/conda/lib\n",
      "2022-02-11 16:59:12.858272: W tensorflow/stream_executor/cuda/cuda_driver.cc:326] failed call to cuInit: UNKNOWN ERROR (303)\n",
      "2022-02-11 16:59:12.858300: I tensorflow/stream_executor/cuda/cuda_diagnostics.cc:156] kernel driver does not appear to be running on this host (61cc1e9d37c2): /proc/driver/nvidia/version does not exist\n",
      "2022-02-11 16:59:12.860937: I tensorflow/core/platform/cpu_feature_guard.cc:142] This TensorFlow binary is optimized with oneAPI Deep Neural Network Library (oneDNN) to use the following CPU instructions in performance-critical operations:  AVX2 FMA\n",
      "To enable them in other operations, rebuild TensorFlow with the appropriate compiler flags.\n",
      "2022-02-11 16:59:12.862454: I tensorflow/compiler/jit/xla_gpu_device.cc:99] Not creating XLA devices, tf_xla_enable_xla_devices not set\n",
      "2022-02-11 16:59:12.891653: I tensorflow/core/distributed_runtime/rpc/grpc_channel.cc:301] Initialize GrpcChannelCache for job worker -> {0 -> 10.0.0.2:8470}\n",
      "2022-02-11 16:59:12.891707: I tensorflow/core/distributed_runtime/rpc/grpc_channel.cc:301] Initialize GrpcChannelCache for job localhost -> {0 -> localhost:30020}\n",
      "2022-02-11 16:59:12.918356: I tensorflow/core/distributed_runtime/rpc/grpc_channel.cc:301] Initialize GrpcChannelCache for job worker -> {0 -> 10.0.0.2:8470}\n",
      "2022-02-11 16:59:12.918413: I tensorflow/core/distributed_runtime/rpc/grpc_channel.cc:301] Initialize GrpcChannelCache for job localhost -> {0 -> localhost:30020}\n",
      "2022-02-11 16:59:12.919876: I tensorflow/core/distributed_runtime/rpc/grpc_server_lib.cc:411] Started server with target: grpc://localhost:30020\n"
     ]
    },
    {
     "name": "stdout",
     "output_type": "stream",
     "text": [
      "All devices:  [LogicalDevice(name='/job:worker/replica:0/task:0/device:TPU:7', device_type='TPU'), LogicalDevice(name='/job:worker/replica:0/task:0/device:TPU:6', device_type='TPU'), LogicalDevice(name='/job:worker/replica:0/task:0/device:TPU:5', device_type='TPU'), LogicalDevice(name='/job:worker/replica:0/task:0/device:TPU:4', device_type='TPU'), LogicalDevice(name='/job:worker/replica:0/task:0/device:TPU:3', device_type='TPU'), LogicalDevice(name='/job:worker/replica:0/task:0/device:TPU:0', device_type='TPU'), LogicalDevice(name='/job:worker/replica:0/task:0/device:TPU:1', device_type='TPU'), LogicalDevice(name='/job:worker/replica:0/task:0/device:TPU:2', device_type='TPU')]\n"
     ]
    }
   ],
   "source": [
    "# Set TPU usage as our strategy\n",
    "\n",
    "resolver = tf.distribute.cluster_resolver.TPUClusterResolver(tpu='')\n",
    "tf.config.experimental_connect_to_cluster(resolver)\n",
    "# This is the TPU initialization code that has to be at the beginning.\n",
    "tf.tpu.experimental.initialize_tpu_system(resolver)\n",
    "print(\"All devices: \", tf.config.list_logical_devices('TPU'))\n",
    "strategy = tf.distribute.TPUStrategy(resolver)"
   ]
  },
  {
   "attachments": {},
   "cell_type": "markdown",
   "id": "c25f268b",
   "metadata": {
    "papermill": {
     "duration": 0.021799,
     "end_time": "2022-02-11T16:59:19.145857",
     "exception": false,
     "start_time": "2022-02-11T16:59:19.124058",
     "status": "completed"
    },
    "tags": []
   },
   "source": [
    "## 📥 Load the data"
   ]
  },
  {
   "cell_type": "code",
   "execution_count": 6,
   "id": "105ad4d5",
   "metadata": {
    "execution": {
     "iopub.execute_input": "2022-02-11T16:59:19.192505Z",
     "iopub.status.busy": "2022-02-11T16:59:19.191723Z",
     "iopub.status.idle": "2022-02-11T16:59:19.557491Z",
     "shell.execute_reply": "2022-02-11T16:59:19.558088Z",
     "shell.execute_reply.started": "2022-02-08T19:31:19.529499Z"
    },
    "papermill": {
     "duration": 0.39142,
     "end_time": "2022-02-11T16:59:19.558264",
     "exception": false,
     "start_time": "2022-02-11T16:59:19.166844",
     "status": "completed"
    },
    "tags": []
   },
   "outputs": [
    {
     "data": {
      "text/plain": [
       "942"
      ]
     },
     "execution_count": 6,
     "metadata": {},
     "output_type": "execute_result"
    }
   ],
   "source": [
    "# store all filenames in the training data folder into one variable\n",
    "\n",
    "patient_files = gmc.find_patient_files(data_path)\n",
    "num_patient_files = len(patient_files)\n",
    "num_patient_files"
   ]
  },
  {
   "cell_type": "code",
   "execution_count": 7,
   "id": "71ba1e55",
   "metadata": {
    "execution": {
     "iopub.execute_input": "2022-02-11T16:59:19.605747Z",
     "iopub.status.busy": "2022-02-11T16:59:19.605069Z",
     "iopub.status.idle": "2022-02-11T16:59:19.608337Z",
     "shell.execute_reply": "2022-02-11T16:59:19.608825Z",
     "shell.execute_reply.started": "2022-02-08T19:31:19.824468Z"
    },
    "papermill": {
     "duration": 0.029344,
     "end_time": "2022-02-11T16:59:19.609008",
     "exception": false,
     "start_time": "2022-02-11T16:59:19.579664",
     "status": "completed"
    },
    "tags": []
   },
   "outputs": [],
   "source": [
    "# The 3 classes used in the prediction model will be:\n",
    "\n",
    "classes = ['Present', 'Unknown', 'Absent']\n",
    "num_classes = len(classes)"
   ]
  },
  {
   "cell_type": "code",
   "execution_count": 8,
   "id": "35d24e54",
   "metadata": {
    "execution": {
     "iopub.execute_input": "2022-02-11T16:59:19.657710Z",
     "iopub.status.busy": "2022-02-11T16:59:19.656987Z",
     "iopub.status.idle": "2022-02-11T17:00:14.782401Z",
     "shell.execute_reply": "2022-02-11T17:00:14.781500Z",
     "shell.execute_reply.started": "2022-02-08T19:31:19.830799Z"
    },
    "papermill": {
     "duration": 55.151195,
     "end_time": "2022-02-11T17:00:14.782598",
     "exception": false,
     "start_time": "2022-02-11T16:59:19.631403",
     "status": "completed"
    },
    "tags": []
   },
   "outputs": [
    {
     "name": "stderr",
     "output_type": "stream",
     "text": [
      "100%|██████████| 942/942 [00:55<00:00, 17.10it/s]"
     ]
    },
    {
     "name": "stdout",
     "output_type": "stream",
     "text": [
      "Number of signals = 3163\n"
     ]
    },
    {
     "name": "stderr",
     "output_type": "stream",
     "text": [
      "\n",
      "/opt/conda/lib/python3.7/site-packages/numpy/core/_asarray.py:83: VisibleDeprecationWarning: Creating an ndarray from ragged nested sequences (which is a list-or-tuple of lists-or-tuples-or ndarrays with different lengths or shapes) is deprecated. If you meant to do this, you must specify 'dtype=object' when creating the ndarray\n",
      "  return array(a, dtype, copy=False, order=order)\n"
     ]
    }
   ],
   "source": [
    "# Resample all sound recordings from 4000Hz to 500Hz and save the data into a list (data) containing all sound recordings. \n",
    "# Load the ground truth for each sound recording into the labels-list\n",
    "\n",
    "data = []\n",
    "labels = list()\n",
    "new_freq = 500\n",
    "\n",
    "for i in tqdm.tqdm(range(num_patient_files)):\n",
    "    # Load the current patient data and recordings.\n",
    "    current_patient_data = gmc.load_patient_data(patient_files[i])\n",
    "    current_recordings, freq = gmc.load_recordings(data_path, current_patient_data, get_frequencies=True)\n",
    "    \n",
    "    for j in range(len(current_recordings)):\n",
    "        \n",
    "        resamp_sig = signal.resample(current_recordings[j], int((len(current_recordings[j])/freq[j]) * new_freq))\n",
    "        data.append(resamp_sig)\n",
    "\n",
    "        # Extract labels and use one-hot encoding.\n",
    "        current_labels = np.zeros(num_classes, dtype=int)\n",
    "        label = gmc.get_label(current_patient_data)\n",
    "        if label in classes:\n",
    "            j = classes.index(label)\n",
    "            current_labels[j] = 1\n",
    "        labels.append(current_labels)\n",
    "\n",
    "labels = np.vstack(labels)\n",
    "data_numpy = np.asarray(data)\n",
    "print(f\"Number of signals = {data_numpy.shape[0]}\")"
   ]
  },
  {
   "cell_type": "code",
   "execution_count": 9,
   "id": "042d1c52",
   "metadata": {
    "execution": {
     "iopub.execute_input": "2022-02-11T17:00:15.070126Z",
     "iopub.status.busy": "2022-02-11T17:00:15.069377Z",
     "iopub.status.idle": "2022-02-11T17:00:15.083527Z",
     "shell.execute_reply": "2022-02-11T17:00:15.082997Z",
     "shell.execute_reply.started": "2022-02-08T19:32:05.448111Z"
    },
    "papermill": {
     "duration": 0.159989,
     "end_time": "2022-02-11T17:00:15.083672",
     "exception": false,
     "start_time": "2022-02-11T17:00:14.923683",
     "status": "completed"
    },
    "tags": []
   },
   "outputs": [
    {
     "name": "stderr",
     "output_type": "stream",
     "text": [
      "100%|██████████| 3163/3163 [00:00<00:00, 896875.58it/s]\n"
     ]
    },
    {
     "data": {
      "text/plain": [
       "32256"
      ]
     },
     "execution_count": 9,
     "metadata": {},
     "output_type": "execute_result"
    }
   ],
   "source": [
    "# Loop through all data and find the sound recording lengths\n",
    "\n",
    "sig_len = []\n",
    "for i in tqdm.tqdm(data):\n",
    "    sig_len.append(len(i))\n",
    "    \n",
    "np.asarray(sig_len).max()"
   ]
  },
  {
   "attachments": {},
   "cell_type": "markdown",
   "id": "c61039cd",
   "metadata": {
    "papermill": {
     "duration": 0.139362,
     "end_time": "2022-02-11T17:00:15.362602",
     "exception": false,
     "start_time": "2022-02-11T17:00:15.223240",
     "status": "completed"
    },
    "tags": []
   },
   "source": [
    "## 🔧 Preprocess the data"
   ]
  },
  {
   "cell_type": "code",
   "execution_count": 10,
   "id": "933bf9cb",
   "metadata": {
    "execution": {
     "iopub.execute_input": "2022-02-11T17:00:15.651295Z",
     "iopub.status.busy": "2022-02-11T17:00:15.650650Z",
     "iopub.status.idle": "2022-02-11T17:00:18.615385Z",
     "shell.execute_reply": "2022-02-11T17:00:18.616419Z",
     "shell.execute_reply.started": "2022-02-08T19:32:05.468014Z"
    },
    "papermill": {
     "duration": 3.113635,
     "end_time": "2022-02-11T17:00:18.616740",
     "exception": false,
     "start_time": "2022-02-11T17:00:15.503105",
     "status": "completed"
    },
    "tags": []
   },
   "outputs": [
    {
     "name": "stderr",
     "output_type": "stream",
     "text": [
      "100%|██████████| 3163/3163 [00:02<00:00, 1070.16it/s]\n"
     ]
    }
   ],
   "source": [
    "# Zero-pad all sound recordings so they get equally long as the longest one\n",
    "\n",
    "data_padded = np.zeros((data_numpy.shape[0],np.asarray(sig_len).max()))\n",
    "for i in tqdm.tqdm(range(data_numpy.shape[0])):\n",
    "    data_padded [i] = tf.keras.preprocessing.sequence.pad_sequences(np.expand_dims(data_numpy[i],0),\n",
    "                                                                    maxlen=np.asarray(sig_len).max(),\n",
    "                                                                    padding='post',truncating='post', value=0.0)\n"
   ]
  },
  {
   "cell_type": "code",
   "execution_count": 11,
   "id": "9514ef26",
   "metadata": {
    "execution": {
     "iopub.execute_input": "2022-02-11T17:00:18.922776Z",
     "iopub.status.busy": "2022-02-11T17:00:18.921786Z",
     "iopub.status.idle": "2022-02-11T17:00:18.925898Z",
     "shell.execute_reply": "2022-02-11T17:00:18.925249Z",
     "shell.execute_reply.started": "2022-02-04T07:34:07.917143Z"
    },
    "papermill": {
     "duration": 0.157347,
     "end_time": "2022-02-11T17:00:18.926048",
     "exception": false,
     "start_time": "2022-02-11T17:00:18.768701",
     "status": "completed"
    },
    "tags": []
   },
   "outputs": [
    {
     "name": "stdout",
     "output_type": "stream",
     "text": [
      "Present = 616, Unknown = 156, Absent = 2391\n"
     ]
    }
   ],
   "source": [
    "# The prevalence of the 3 different labels\n",
    "\n",
    "print(f\"Present = {np.where(np.argmax(labels,axis=1)==0)[0].shape[0]}, Unknown = {np.where(np.argmax(labels,axis=1)==1)[0].shape[0]}, Absent = {np.where(np.argmax(labels,axis=1)==2)[0].shape[0]}\")"
   ]
  },
  {
   "cell_type": "code",
   "execution_count": 12,
   "id": "0916c689",
   "metadata": {
    "_kg_hide-input": true,
    "execution": {
     "iopub.execute_input": "2022-02-11T17:00:19.239330Z",
     "iopub.status.busy": "2022-02-11T17:00:19.238628Z",
     "iopub.status.idle": "2022-02-11T17:00:19.241066Z",
     "shell.execute_reply": "2022-02-11T17:00:19.240471Z",
     "shell.execute_reply.started": "2022-02-04T07:34:07.926087Z"
    },
    "papermill": {
     "duration": 0.161888,
     "end_time": "2022-02-11T17:00:19.241205",
     "exception": false,
     "start_time": "2022-02-11T17:00:19.079317",
     "status": "completed"
    },
    "tags": []
   },
   "outputs": [],
   "source": [
    "class PlotLosses(tf.keras.callbacks.Callback):\n",
    "    def on_train_begin(self, logs={}):\n",
    "        self.i = 0\n",
    "        self.x = []\n",
    "        self.losses = []\n",
    "        self.val_losses = []\n",
    "\n",
    "        self.fig = plt.figure()\n",
    "\n",
    "        self.logs = []\n",
    "\n",
    "    def on_epoch_end(self, epoch, logs={}):\n",
    "\n",
    "        self.logs.append(logs)\n",
    "        self.x.append(self.i)\n",
    "        self.losses.append(logs.get('loss'))\n",
    "        self.val_losses.append(logs.get('val_loss'))\n",
    "        self.i += 1\n",
    "\n",
    "        #clear_output(wait=True)\n",
    "        #plt.plot(self.x, self.losses, label=\"loss\")\n",
    "        #plt.plot(self.x, self.val_losses, label=\"val_loss\")\n",
    "        #plt.legend()\n",
    "        #plt.show();\n",
    "    def on_train_end(self, epoch, logs={}):\n",
    "        plt.plot(self.x, self.losses, label=\"loss\")\n",
    "        plt.plot(self.x, self.val_losses, label=\"val_loss\")\n",
    "        plt.legend()\n",
    "        plt.show();\n",
    "\n",
    "plot_losses = PlotLosses()"
   ]
  },
  {
   "cell_type": "code",
   "execution_count": 13,
   "id": "958bdda2",
   "metadata": {
    "_kg_hide-input": true,
    "execution": {
     "iopub.execute_input": "2022-02-11T17:00:19.553552Z",
     "iopub.status.busy": "2022-02-11T17:00:19.552554Z",
     "iopub.status.idle": "2022-02-11T17:00:19.563823Z",
     "shell.execute_reply": "2022-02-11T17:00:19.564439Z"
    },
    "papermill": {
     "duration": 0.171747,
     "end_time": "2022-02-11T17:00:19.564613",
     "exception": false,
     "start_time": "2022-02-11T17:00:19.392866",
     "status": "completed"
    },
    "tags": []
   },
   "outputs": [],
   "source": [
    "from tensorflow import keras\n",
    "\n",
    "\n",
    "def _inception_module(input_tensor, stride=1, activation='linear', use_bottleneck=True, kernel_size=40, bottleneck_size=32, nb_filters=32):\n",
    "\n",
    "    if use_bottleneck and int(input_tensor.shape[-1]) > 1:\n",
    "        input_inception = keras.layers.Conv1D(filters=bottleneck_size, kernel_size=1,\n",
    "                                              padding='same', activation=activation, use_bias=False)(input_tensor)\n",
    "    else:\n",
    "        input_inception = input_tensor\n",
    "\n",
    "    # kernel_size_s = [3, 5, 8, 11, 17]\n",
    "    kernel_size_s = [kernel_size // (2 ** i) for i in range(3)]\n",
    "\n",
    "    conv_list = []\n",
    "\n",
    "    for i in range(len(kernel_size_s)):\n",
    "        conv_list.append(keras.layers.Conv1D(filters=nb_filters, kernel_size=kernel_size_s[i],\n",
    "                                              strides=stride, padding='same', activation=activation, use_bias=False)(\n",
    "            input_inception))\n",
    "\n",
    "    max_pool_1 = keras.layers.MaxPool1D(pool_size=3, strides=stride, padding='same')(input_tensor)\n",
    "\n",
    "    conv_6 = keras.layers.Conv1D(filters=nb_filters, kernel_size=1,\n",
    "                                  padding='same', activation=activation, use_bias=False)(max_pool_1)\n",
    "\n",
    "    conv_list.append(conv_6)\n",
    "\n",
    "    x = keras.layers.Concatenate(axis=2)(conv_list)\n",
    "    x = keras.layers.BatchNormalization()(x)\n",
    "    x = keras.layers.Activation(activation='relu')(x)\n",
    "    return x\n",
    "\n",
    "def _shortcut_layer(input_tensor, out_tensor):\n",
    "    shortcut_y = keras.layers.Conv1D(filters=int(out_tensor.shape[-1]), kernel_size=1,\n",
    "                                      padding='same', use_bias=False)(input_tensor)\n",
    "    shortcut_y = keras.layers.BatchNormalization()(shortcut_y)\n",
    "\n",
    "    x = keras.layers.Add()([shortcut_y, out_tensor])\n",
    "    x = keras.layers.Activation('relu')(x)\n",
    "    return x\n",
    "\n",
    "def build_model(sig_len,n_features, nb_classes, depth=6, use_residual=True):\n",
    "    input_layer = keras.layers.Input(shape=(sig_len,n_features))\n",
    "\n",
    "    x = input_layer\n",
    "    input_res = input_layer\n",
    "\n",
    "    for d in range(depth):\n",
    "\n",
    "        x = _inception_module(x)\n",
    "\n",
    "        if use_residual and d % 3 == 2:\n",
    "            x = _shortcut_layer(input_res, x)\n",
    "            input_res = x\n",
    "\n",
    "    gap_layer = keras.layers.GlobalAveragePooling1D()(x)\n",
    "\n",
    "    output_layer = keras.layers.Dense(nb_classes, activation='softmax')(gap_layer)\n",
    "\n",
    "    model = keras.models.Model(inputs=input_layer, outputs=output_layer)\n",
    "    #model.compile(loss=[macro_double_soft_f1], optimizer=tf.keras.optimizers.Adam(learning_rate=0.001))\n",
    "    model.compile(loss=tf.keras.losses.CategoricalCrossentropy(), optimizer=tf.keras.optimizers.Adam(learning_rate=0.0001), metrics=[tf.keras.metrics.BinaryAccuracy(\n",
    "        name='accuracy', dtype=None, threshold=0.5),tfa.metrics.F1Score(num_classes=3, threshold= 0.5, name='f1_score')])\n",
    "    return model\n",
    "\n"
   ]
  },
  {
   "cell_type": "code",
   "execution_count": 14,
   "id": "17c7aa80",
   "metadata": {
    "_kg_hide-input": true,
    "execution": {
     "iopub.execute_input": "2022-02-11T17:00:19.869129Z",
     "iopub.status.busy": "2022-02-11T17:00:19.868479Z",
     "iopub.status.idle": "2022-02-11T17:00:19.890265Z",
     "shell.execute_reply": "2022-02-11T17:00:19.890821Z",
     "shell.execute_reply.started": "2022-02-04T07:34:07.939701Z"
    },
    "papermill": {
     "duration": 0.175066,
     "end_time": "2022-02-11T17:00:19.891024",
     "exception": false,
     "start_time": "2022-02-11T17:00:19.715958",
     "status": "completed"
    },
    "tags": []
   },
   "outputs": [],
   "source": [
    "def inception_block(prev_layer):\n",
    "    \n",
    "    conv1=tf.keras.layers.Conv1D(filters = 64, kernel_size = 1, padding = 'same')(prev_layer)\n",
    "    conv1=tf.keras.layers.BatchNormalization()(conv1)\n",
    "    conv1=tf.keras.layers.Activation('relu')(conv1)\n",
    "    #conv1=tf.keras.layers.SpatialDropout1D(rate=0.2)(conv1)\n",
    "    \n",
    "    conv3=tf.keras.layers.Conv1D(filters = 64, kernel_size = 1, padding = 'same')(prev_layer)\n",
    "    conv3=tf.keras.layers.BatchNormalization()(conv3)\n",
    "    conv3=tf.keras.layers.Activation('relu')(conv3)\n",
    "    conv3=tf.keras.layers.Conv1D(filters = 64, kernel_size = 3, padding = 'same')(conv3)\n",
    "    conv3=tf.keras.layers.BatchNormalization()(conv3)\n",
    "    conv3=tf.keras.layers.Activation('relu')(conv3)\n",
    "    #conv3=tf.keras.layers.SpatialDropout1D(rate=0.2)(conv3)\n",
    "    \n",
    "    conv5=tf.keras.layers.Conv1D(filters = 64, kernel_size = 1, padding = 'same')(prev_layer)\n",
    "    conv5=tf.keras.layers.BatchNormalization()(conv5)\n",
    "    conv5=tf.keras.layers.Activation('relu')(conv5)\n",
    "    conv5=tf.keras.layers.Conv1D(filters = 64, kernel_size = 5, padding = 'same')(conv5)\n",
    "    conv5=tf.keras.layers.BatchNormalization()(conv5)\n",
    "    conv5=tf.keras.layers.Activation('relu')(conv5)\n",
    "    #conv5=tf.keras.layers.SpatialDropout1D(rate=0.2)(conv5)\n",
    "    \n",
    "    pool= tf.keras.layers.MaxPool1D(pool_size=3, strides=1, padding='same')(prev_layer)\n",
    "    convmax=tf.keras.layers.Conv1D(filters = 64, kernel_size = 1, padding = 'same')(pool)\n",
    "    convmax=tf.keras.layers.BatchNormalization()(convmax)\n",
    "    convmax=tf.keras.layers.Activation('relu')(convmax)\n",
    "    #convmax=tf.keras.layers.SpatialDropout1D(rate=0.2)(convmax)\n",
    "    \n",
    "    layer_out = tf.keras.layers.concatenate([conv1, conv3, conv5, convmax], axis=1)\n",
    "    \n",
    "    return layer_out\n",
    "\n",
    "def inception_model(sig_len,n_features, output):\n",
    "    input_layer = tf.keras.layers.Input(shape=(sig_len,n_features)) \n",
    "    \n",
    "    X = tf.keras.layers.ZeroPadding1D(3)(input_layer)\n",
    "    \n",
    "    X = tf.keras.layers.Conv1D(filters = 64, kernel_size = 5, padding = 'same')(X)\n",
    "    X = tf.keras.layers.BatchNormalization()(X)\n",
    "    X = tf.keras.layers.Activation('relu')(X)\n",
    "\n",
    "    X = tf.keras.layers.MaxPool1D(pool_size=3, strides=2, padding='same')(X)\n",
    "    \n",
    "    X = tf.keras.layers.Conv1D(filters = 64, kernel_size = 5, padding = 'same')(X)\n",
    "    X = tf.keras.layers.BatchNormalization()(X)\n",
    "    X = tf.keras.layers.Activation('relu')(X)\n",
    "\n",
    "    \n",
    "    X = inception_block(X)\n",
    "    X = inception_block(X)\n",
    "    \n",
    "    \n",
    "    X = tf.keras.layers.MaxPool1D(pool_size=7, strides=2, padding='same')(X)\n",
    "    \n",
    "    X = tf.keras.layers.GlobalAveragePooling1D()(X)\n",
    "    \n",
    "    \n",
    "    output_layer = tf.keras.layers.Dense(units=output,activation='softmax')(X)\n",
    "\n",
    "    model = tf.keras.Model(inputs=input_layer, outputs=output_layer)\n",
    "\n",
    "    model.compile(loss=tf.keras.losses.CategoricalCrossentropy(), optimizer=tf.keras.optimizers.Adam(learning_rate=0.0001), metrics=[tf.keras.metrics.BinaryAccuracy(\n",
    "        name='accuracy', dtype=None, threshold=0.5),tfa.metrics.F1Score(num_classes=3, threshold= 0.5, name='f1_score')])\n",
    "\n",
    "    return model"
   ]
  },
  {
   "cell_type": "code",
   "execution_count": 15,
   "id": "f2e031ab",
   "metadata": {
    "_kg_hide-input": true,
    "execution": {
     "iopub.execute_input": "2022-02-11T17:00:20.194612Z",
     "iopub.status.busy": "2022-02-11T17:00:20.193924Z",
     "iopub.status.idle": "2022-02-11T17:00:20.198855Z",
     "shell.execute_reply": "2022-02-11T17:00:20.199472Z",
     "shell.execute_reply.started": "2022-02-04T07:34:07.966742Z"
    },
    "papermill": {
     "duration": 0.158674,
     "end_time": "2022-02-11T17:00:20.199641",
     "exception": false,
     "start_time": "2022-02-11T17:00:20.040967",
     "status": "completed"
    },
    "tags": []
   },
   "outputs": [],
   "source": [
    "from sklearn.utils.class_weight import compute_class_weight\n",
    "def calculating_class_weights(y_true):\n",
    "    number_dim = np.shape(y_true)[1]\n",
    "    weights = np.empty([number_dim, 2])\n",
    "    for i in range(number_dim):\n",
    "        weights[i] = compute_class_weight('balanced', [0.,1.], y_true[:, i])\n",
    "    return weights"
   ]
  },
  {
   "cell_type": "code",
   "execution_count": 16,
   "id": "fbc930ff",
   "metadata": {
    "_kg_hide-input": true,
    "execution": {
     "iopub.execute_input": "2022-02-11T17:00:20.500218Z",
     "iopub.status.busy": "2022-02-11T17:00:20.499582Z",
     "iopub.status.idle": "2022-02-11T17:00:20.503958Z",
     "shell.execute_reply": "2022-02-11T17:00:20.504599Z",
     "shell.execute_reply.started": "2022-02-04T07:34:10.828636Z"
    },
    "papermill": {
     "duration": 0.156867,
     "end_time": "2022-02-11T17:00:20.504785",
     "exception": false,
     "start_time": "2022-02-11T17:00:20.347918",
     "status": "completed"
    },
    "tags": []
   },
   "outputs": [],
   "source": [
    "reduce_lr = tf.keras.callbacks.ReduceLROnPlateau(\n",
    "    monitor='val_f1_score', factor=0.1, patience=3, verbose=1, mode='min',\n",
    "    min_delta=0.0001, cooldown=5, min_lr=0\n",
    ")"
   ]
  },
  {
   "attachments": {},
   "cell_type": "markdown",
   "id": "65e8d68b",
   "metadata": {
    "papermill": {
     "duration": 0.148839,
     "end_time": "2022-02-11T17:00:20.804060",
     "exception": false,
     "start_time": "2022-02-11T17:00:20.655221",
     "status": "completed"
    },
    "tags": []
   },
   "source": [
    "## 💡 This is why we use TPU for this problem"
   ]
  },
  {
   "cell_type": "code",
   "execution_count": 17,
   "id": "0bc70fa9",
   "metadata": {
    "_kg_hide-input": true,
    "execution": {
     "iopub.execute_input": "2022-02-11T17:00:21.108749Z",
     "iopub.status.busy": "2022-02-11T17:00:21.107994Z",
     "iopub.status.idle": "2022-02-11T17:00:21.345835Z",
     "shell.execute_reply": "2022-02-11T17:00:21.345152Z",
     "shell.execute_reply.started": "2022-02-08T19:41:45.279909Z"
    },
    "papermill": {
     "duration": 0.392491,
     "end_time": "2022-02-11T17:00:21.345979",
     "exception": false,
     "start_time": "2022-02-11T17:00:20.953488",
     "status": "completed"
    },
    "tags": []
   },
   "outputs": [
    {
     "data": {
      "image/png": "[encoded data removed]",
      "text/plain": [
       "<Figure size 2304x576 with 1 Axes>"
      ]
     },
     "metadata": {
      "needs_background": "light"
     },
     "output_type": "display_data"
    }
   ],
   "source": [
    "plt.figure(figsize=(32,8))\n",
    "plt.bar([\"CPU\", \"GPU\", \"TPU\", \"TPU + TensorFlow Dataset\"], [2054, 142, 70, 42], color=\"darkorange\")\n",
    "plt.xlabel(\"Accelerator hardware\",fontsize=20)\n",
    "plt.ylabel(\"Seconds pr. epoch\",fontsize=20)\n",
    "plt.xticks(fontsize=20)\n",
    "plt.yticks(fontsize=20)\n",
    "plt.show()"
   ]
  },
  {
   "attachments": {},
   "cell_type": "markdown",
   "id": "4991f5bb",
   "metadata": {
    "papermill": {
     "duration": 0.150262,
     "end_time": "2022-02-11T17:00:21.646852",
     "exception": false,
     "start_time": "2022-02-11T17:00:21.496590",
     "status": "completed"
    },
    "tags": []
   },
   "source": [
    "## ⏳ Train the model"
   ]
  },
  {
   "cell_type": "code",
   "execution_count": 18,
   "id": "9ed54670",
   "metadata": {
    "execution": {
     "iopub.execute_input": "2022-02-11T17:00:21.954137Z",
     "iopub.status.busy": "2022-02-11T17:00:21.953050Z",
     "iopub.status.idle": "2022-02-11T18:11:47.336055Z",
     "shell.execute_reply": "2022-02-11T18:11:47.336641Z",
     "shell.execute_reply.started": "2022-02-04T07:34:16.979488Z"
    },
    "papermill": {
     "duration": 4285.539307,
     "end_time": "2022-02-11T18:11:47.336871",
     "exception": false,
     "start_time": "2022-02-11T17:00:21.797564",
     "status": "completed"
    },
    "tags": []
   },
   "outputs": [
    {
     "name": "stdout",
     "output_type": "stream",
     "text": [
      "CV fold 1\n"
     ]
    },
    {
     "name": "stderr",
     "output_type": "stream",
     "text": [
      "/opt/conda/lib/python3.7/site-packages/sklearn/utils/validation.py:70: FutureWarning: Pass classes=[0.0, 1.0], y=[1 1 1 ... 0 0 0] as keyword args. From version 0.25 passing these as positional arguments will result in an error\n",
      "  FutureWarning)\n",
      "/opt/conda/lib/python3.7/site-packages/sklearn/utils/validation.py:70: FutureWarning: Pass classes=[0.0, 1.0], y=[0 0 0 ... 0 0 0] as keyword args. From version 0.25 passing these as positional arguments will result in an error\n",
      "  FutureWarning)\n",
      "/opt/conda/lib/python3.7/site-packages/sklearn/utils/validation.py:70: FutureWarning: Pass classes=[0.0, 1.0], y=[0 0 0 ... 1 1 1] as keyword args. From version 0.25 passing these as positional arguments will result in an error\n",
      "  FutureWarning)\n"
     ]
    },
    {
     "data": {
      "image/png": "[encoded data removed]",
      "text/plain": [
       "<Figure size 432x288 with 1 Axes>"
      ]
     },
     "metadata": {
      "needs_background": "light"
     },
     "output_type": "display_data"
    },
    {
     "name": "stdout",
     "output_type": "stream",
     "text": [
      "22/22 [==============================] - 2s 60ms/step - loss: 0.9175 - accuracy: 0.7846 - f1_score: 0.3270\n",
      "Training loss = 0.9174818992614746, Validation loss = 0.7846235036849976, \n",
      "Validation accuaracy class 1 = 0.0317460335791111, \n",
      "Validation accuaracy class 2 = 0.13445378839969635, \n",
      "Validation accuaracy class 3 = 0.8148893117904663\n",
      "CV fold 2\n"
     ]
    },
    {
     "name": "stderr",
     "output_type": "stream",
     "text": [
      "/opt/conda/lib/python3.7/site-packages/sklearn/utils/validation.py:70: FutureWarning: Pass classes=[0.0, 1.0], y=[1 1 1 ... 1 1 1] as keyword args. From version 0.25 passing these as positional arguments will result in an error\n",
      "  FutureWarning)\n"
     ]
    },
    {
     "data": {
      "image/png": "[encoded data removed]",
      "text/plain": [
       "<Figure size 432x288 with 1 Axes>"
      ]
     },
     "metadata": {
      "needs_background": "light"
     },
     "output_type": "display_data"
    },
    {
     "name": "stdout",
     "output_type": "stream",
     "text": [
      "22/22 [==============================] - 2s 60ms/step - loss: 1.2633 - accuracy: 0.7583 - f1_score: 0.3377\n",
      "Training loss = 1.2633212804794312, Validation loss = 0.758293867111206, \n",
      "Validation accuaracy class 1 = 0.0625, \n",
      "Validation accuaracy class 2 = 0.1547619253396988, \n",
      "Validation accuaracy class 3 = 0.795854926109314\n",
      "CV fold 3\n"
     ]
    },
    {
     "data": {
      "image/png": "[encoded data removed]",
      "text/plain": [
       "<Figure size 432x288 with 1 Axes>"
      ]
     },
     "metadata": {
      "needs_background": "light"
     },
     "output_type": "display_data"
    },
    {
     "name": "stdout",
     "output_type": "stream",
     "text": [
      "22/22 [==============================] - 3s 60ms/step - loss: 1.4531 - accuracy: 0.4265 - f1_score: 0.0561\n",
      "Training loss = 1.453071117401123, Validation loss = 0.4265402853488922, \n",
      "Validation accuaracy class 1 = 0.03200000151991844, \n",
      "Validation accuaracy class 2 = 0.11171169579029083, \n",
      "Validation accuaracy class 3 = 0.024640655145049095\n",
      "CV fold 4\n"
     ]
    },
    {
     "data": {
      "image/png": "[encoded data removed]",
      "text/plain": [
       "<Figure size 432x288 with 1 Axes>"
      ]
     },
     "metadata": {
      "needs_background": "light"
     },
     "output_type": "display_data"
    },
    {
     "name": "stdout",
     "output_type": "stream",
     "text": [
      "22/22 [==============================] - 2s 60ms/step - loss: 0.7180 - accuracy: 0.8470 - f1_score: 0.3700\n",
      "Training loss = 0.7180379033088684, Validation loss = 0.847046434879303, \n",
      "Validation accuaracy class 1 = 0.24000002443790436, \n",
      "Validation accuaracy class 2 = 0.0, \n",
      "Validation accuaracy class 3 = 0.8699719309806824\n",
      "CV fold 5\n"
     ]
    },
    {
     "data": {
      "image/png": "[encoded data removed]",
      "text/plain": [
       "<Figure size 432x288 with 1 Axes>"
      ]
     },
     "metadata": {
      "needs_background": "light"
     },
     "output_type": "display_data"
    },
    {
     "name": "stdout",
     "output_type": "stream",
     "text": [
      "22/22 [==============================] - 2s 60ms/step - loss: 0.8481 - accuracy: 0.6809 - f1_score: 0.3330\n",
      "Training loss = 0.8480948805809021, Validation loss = 0.680907130241394, \n",
      "Validation accuaracy class 1 = 0.41900646686553955, \n",
      "Validation accuaracy class 2 = 0.0, \n",
      "Validation accuaracy class 3 = 0.5801105499267578\n"
     ]
    }
   ],
   "source": [
    "# Validate the model using 5-fold stratified CV (startification based on the ground truth labels)\n",
    "folds = 5\n",
    "batch_size = 30\n",
    "n_epochs = 50\n",
    "cnt=0\n",
    "skf = StratifiedKFold(n_splits=folds)\n",
    "for train_index, val_index in skf.split(data_padded, np.argmax(labels,axis=1)):\n",
    "    cnt += 1\n",
    "    print(f\"CV fold {cnt}\")\n",
    "    # Split the development data into train and validation\n",
    "    X_train, X_val = data_padded[train_index], data_padded[val_index]\n",
    "    y_train, y_val = labels[train_index], labels[val_index]\n",
    "\n",
    "    # Use the prevalence of each class to weight the learning of the different samples/recordings -> lower prevalence = higher weight\n",
    "    new_weights=calculating_class_weights(y_train)\n",
    "    keys = np.arange(0,y_train.shape[1],1)\n",
    "    weight_dictionary = dict(zip(keys, new_weights.T[1]))\n",
    "    \n",
    "    # Assign the training data to a Tensorflow dataset \n",
    "    tf_dataset_train = tf.data.Dataset.from_tensor_slices((np.expand_dims(X_train,2), np.asarray(y_train)))\n",
    "    tf_dataset_train = tf_dataset_train.cache()\n",
    "    tf_dataset_train = tf_dataset_train.batch(batch_size)\n",
    "    tf_dataset_train = tf_dataset_train.prefetch(tf.data.AUTOTUNE)\n",
    "    \n",
    "    # Assign the validation data to a Tensorflow dataset \n",
    "    tf_dataset_val = tf.data.Dataset.from_tensor_slices((np.expand_dims(X_val,2), np.asarray(y_val)))\n",
    "    tf_dataset_val = tf_dataset_val.cache()\n",
    "    tf_dataset_val = tf_dataset_val.batch(batch_size)\n",
    "    tf_dataset_val = tf_dataset_val.prefetch(tf.data.AUTOTUNE) \n",
    "    \n",
    "    # Use our TPU strategy when we finally train the model\n",
    "    with strategy.scope():\n",
    "        model = build_model(data_padded.shape[1],1,labels.shape[1])\n",
    "        #model = inception_model(data_padded.shape[1],1,labels.shape[1])\n",
    "        model.fit(x=tf_dataset_train, epochs=n_epochs, \n",
    "                  validation_data=tf_dataset_val,  \n",
    "                  callbacks = [plot_losses], verbose=0,\n",
    "                  class_weight=weight_dictionary\n",
    "                 )\n",
    "        res = model.evaluate(tf_dataset_val)\n",
    "        print(f\"Training loss = {res[0]}, Validation loss = {res[1]}, \\nValidation accuaracy class 1 = {res[2][0]}, \\nValidation accuaracy class 2 = {res[2][1]}, \\nValidation accuaracy class 3 = {res[2][2]}\")"
   ]
  }
 ],
 "metadata": {
  "kernelspec": {
   "display_name": "Python 3",
   "language": "python",
   "name": "python3"
  },
  "language_info": {
   "codemirror_mode": {
    "name": "ipython",
    "version": 3
   },
   "file_extension": ".py",
   "mimetype": "text/x-python",
   "name": "python",
   "nbconvert_exporter": "python",
   "pygments_lexer": "ipython3",
   "version": "3.10.11"
  },
  "papermill": {
   "default_parameters": {},
   "duration": 4374.237144,
   "end_time": "2022-02-11T18:11:50.891977",
   "environment_variables": {},
   "exception": null,
   "input_path": "__notebook__.ipynb",
   "output_path": "__notebook__.ipynb",
   "parameters": {},
   "start_time": "2022-02-11T16:58:56.654833",
   "version": "2.3.3"
  },
  "vscode": {
   "interpreter": {
    "hash": "63f01ceb296859bf79c8548503dbe29d6a43341a341df2cfbf2b9b0379805e22"
   }
  }
 },
 "nbformat": 4,
 "nbformat_minor": 5
}
